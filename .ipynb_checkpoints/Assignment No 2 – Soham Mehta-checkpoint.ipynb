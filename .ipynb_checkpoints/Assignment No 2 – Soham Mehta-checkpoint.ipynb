{
 "cells": [
  {
   "cell_type": "markdown",
   "id": "4032831c-8fa1-4c7d-afe4-d911a6214547",
   "metadata": {},
   "source": [
    "# Lab Assignment 2 – Soham Mehta"
   ]
  },
  {
   "cell_type": "markdown",
   "id": "81d8896b-2836-414f-bbc3-0267fae338d6",
   "metadata": {},
   "source": [
    "#### Your student code: 220038961\n",
    "#### Repository URL: https://github.com/sohmehta/PY4SA23_Assignment.git"
   ]
  },
  {
   "cell_type": "markdown",
   "id": "be17995e-79de-4575-955a-829836ed1561",
   "metadata": {},
   "source": [
    "## Python Basics"
   ]
  },
  {
   "cell_type": "markdown",
   "id": "9e739b8a-305d-4daf-ba59-8616a1593849",
   "metadata": {},
   "source": [
    "### Task 1"
   ]
  },
  {
   "cell_type": "markdown",
   "id": "49796565-6045-4eb8-b415-be1d8c004c94",
   "metadata": {},
   "source": [
    "Create an If...Else statement that will test whether a number is divisible by three. \"YOUR VALUE is divisible by 3\" should be printed if the value is divisible by three. \"YOUR VALUE is not divisible by three\" should be printed if it is not divisible by three. Test the statement on a numeric variable. Upper case text in the print statement should be replaced with the tested number."
   ]
  },
  {
   "cell_type": "code",
   "execution_count": 2,
   "id": "65985917-dc14-4d8e-b323-de9db423b28f",
   "metadata": {},
   "outputs": [],
   "source": [
    "#code here"
   ]
  },
  {
   "cell_type": "markdown",
   "id": "58f74919-75d6-4535-a5a2-4d26e4ed7b5c",
   "metadata": {},
   "source": [
    "### Task 2"
   ]
  },
  {
   "cell_type": "markdown",
   "id": "c73b8945-e9c1-4318-aa61-8ee1a78e9dc4",
   "metadata": {},
   "source": [
    "Create an If...Else statement that will test whether a type of fruit, represented as a text string, is in a list of acceptable fruits (apple, orange, pear, kiwi, or strawberry). If the fruit is on the list, the following should be printed: \"YOUR FRUIT is acceptable.\" If not, then the following should be printed: \"YOUR FRUIT is not acceptable.\" Upper case text in the print statement should be replaced with the tested fruit."
   ]
  },
  {
   "cell_type": "code",
   "execution_count": 3,
   "id": "332a780e-c157-4095-b07c-218d7388818a",
   "metadata": {},
   "outputs": [],
   "source": [
    "#code here"
   ]
  },
  {
   "cell_type": "markdown",
   "id": "19ce255a-aa2e-4ec6-a2a4-ff521bb5fa1d",
   "metadata": {},
   "source": [
    "### Task 3"
   ]
  },
  {
   "cell_type": "markdown",
   "id": "3774820f-21cf-471e-8c65-9168fc7def8b",
   "metadata": {},
   "source": [
    "Create a function to calculate the distance between two coordinates using the haversine formula. Write the following formula where the input parameters are a pair of coordinates as two lists."
   ]
  },
  {
   "cell_type": "code",
   "execution_count": 4,
   "id": "6924d464-64a2-4428-af10-211bbc1c6595",
   "metadata": {},
   "outputs": [],
   "source": [
    "#code here"
   ]
  },
  {
   "cell_type": "markdown",
   "id": "a7b1a2c7-0aa7-4938-862f-652186da2dad",
   "metadata": {},
   "source": [
    "## Pandas & NumPy"
   ]
  },
  {
   "cell_type": "markdown",
   "id": "03c8bdb9-7c52-41f8-9904-efc2b43942ee",
   "metadata": {},
   "source": [
    "This exercise focuses on the use of Pandas to query and summarise data. You will need to import the NumPy and Pandas libraries. Produce code to answer the questions below. Deliver your results in a Jupyter Notebook. Make sure all questions and answers are clearly labelled.\n",
    "\n",
    "The portland_park_trees.csv file contains information about individual trees in city parks in Portland, Oregon. These data were obtained from the City of Portland Office of Parks &Recreation (https://www.portlandoregon.gov/parks/article/433143)."
   ]
  },
  {
   "cell_type": "markdown",
   "id": "6f8c8474-df46-439c-877a-24f777d3d6dd",
   "metadata": {},
   "source": [
    "**Question 1**: How many trees are of the Quercus or Acer genus? "
   ]
  },
  {
   "cell_type": "markdown",
   "id": "2af235e1-85b1-4c94-ab39-3f37f68b596c",
   "metadata": {},
   "source": [
    "**Question 2**: How many trees are of the Quercus or Acer genus and have a DBH larger than 50 inches?"
   ]
  },
  {
   "cell_type": "markdown",
   "id": "b62806ae-cb79-40be-b57d-fc2c37441c95",
   "metadata": {},
   "source": [
    "**Question 3**: Which genus has the highest mean DBH of the following genera: Quercus, Acer, or Fraxinus?"
   ]
  },
  {
   "cell_type": "markdown",
   "id": "6e5c0ba1-e4c6-4dc9-87f9-aaf07bfd263d",
   "metadata": {},
   "source": [
    "**Question 4**: How many different species of trees are recorded in the Acer genus?"
   ]
  },
  {
   "cell_type": "markdown",
   "id": "1bfd2082-9495-47e7-8b3e-caf1657bd167",
   "metadata": {},
   "source": [
    "The world_cities.csv is a file that contains cities, countries, population, coordinates (geographic) and a Boolean attribute that defines if the city is the capital city or not. Read this file as a Pandas dataframe and create the required scripts to:"
   ]
  },
  {
   "cell_type": "markdown",
   "id": "1c359185-4b9a-4000-9981-d2fc873c309d",
   "metadata": {},
   "source": [
    "**Question 5**: \n",
    "- Calculate a new column named \"pop_M\" (population in millions), by transforming the \"pop\" (population) column.\n",
    "- Remove the original \"pop\" column.\n",
    "- Choose/subset a city that starts with the same letter as your first name (for example, \"Mexico City\" if your first name is Michael).\n",
    "- Subset the five biggest (i.e., largest population sizes) cities from the country where your selected city is.\n",
    "- Print the result.\n",
    "- Make sure you write the scripts in different code cells where you describe the process."
   ]
  },
  {
   "cell_type": "markdown",
   "id": "6b545975-de13-4b6c-86ed-89eb737182aa",
   "metadata": {},
   "source": [
    "## Python Data Visualization"
   ]
  },
  {
   "cell_type": "markdown",
   "id": "ac12f161-ac2a-499e-ac08-1b3ed8150b1f",
   "metadata": {},
   "source": [
    "Using the same dataset portland_park_trees.csv, create using seaborn, pandas or matplotlib libraries the following charts:"
   ]
  },
  {
   "cell_type": "markdown",
   "id": "65a65417-ba39-4242-ad64-895641784185",
   "metadata": {},
   "source": [
    "**Graph 1**: Create a scatterplot for just trees in the Ulmus genus with DBH mapped to the x-axis and tree height mapped to the y-axis (Hint: You will need to use the “Genus”, “DBH”, and “TreeHeight” attributes.)."
   ]
  },
  {
   "cell_type": "markdown",
   "id": "41e3b056-e077-4fcd-9865-31f86141573b",
   "metadata": {},
   "source": [
    "**Graph 2**: Create a scatterplot for just trees in the Ulmus genus with DBH mapped to the x-axis, tree height mapped to the y-axis, and tree species mapped to hue (Hint: You will need to use the “Genus”, “Genus_spec”, “DBH”, and “TreeHeight” attributes.)"
   ]
  },
  {
   "cell_type": "markdown",
   "id": "fef6d78f-5824-4fa4-b4f2-f61b4c5ec9b3",
   "metadata": {},
   "source": [
    "**Graph 3**: Create a boxplot of DBH for just the Ulmus genus differentiated by species (or, each species should have its own boxplot)."
   ]
  },
  {
   "cell_type": "markdown",
   "id": "76758119-bab5-4693-8da5-953079562abe",
   "metadata": {},
   "source": [
    "**Graph 4**: Combine Graphs 1 and 3 into a single figure. Do not plot a legend for any of the graphs"
   ]
  },
  {
   "cell_type": "markdown",
   "id": "f050595f-f520-48ac-b083-1d9f2577a079",
   "metadata": {},
   "source": [
    "## Python GeoPandas"
   ]
  },
  {
   "cell_type": "markdown",
   "id": "07ca6269-df1c-4901-81ec-9bde5ffacffa",
   "metadata": {},
   "source": [
    "Go to the Spatial Data Portal of Scotland and find any spatial data that you find interesting in a shapefile format. Download this data and Produce code to complete the requested tasks."
   ]
  },
  {
   "cell_type": "markdown",
   "id": "09f4e26b-79ee-4a8e-89a4-1a4e52ee477c",
   "metadata": {},
   "source": [
    "**Task 1**: Read the selected dataset as GeoPandas DataFrame"
   ]
  },
  {
   "cell_type": "markdown",
   "id": "a43e3aad-3a95-4db8-8579-f620755be6e1",
   "metadata": {},
   "source": [
    "**Task 2**: Use the correct code to plot the first 5 and the last 5 sets of records in your selected dataset."
   ]
  },
  {
   "cell_type": "markdown",
   "id": "07dce84f-e2c6-417d-9874-c6692d12e0e6",
   "metadata": {},
   "source": [
    "**Task 3**: Create a map where you can explore the selected dataset. Try to plot the map using some categorical attribute. Include a ToolTip."
   ]
  },
  {
   "cell_type": "markdown",
   "id": "bd441f54-11a1-43bc-a01b-9c5a926fdc28",
   "metadata": {},
   "source": [
    "**Task 4**: What is the Coordinate Reference System of the selected dataset?"
   ]
  },
  {
   "cell_type": "markdown",
   "id": "6252549f-1571-4182-be47-ff78da961361",
   "metadata": {},
   "source": [
    "**Task 5**: How many features does the selected dataset contain?"
   ]
  },
  {
   "cell_type": "markdown",
   "id": "bd11e4e5-ec41-4e1c-ae7d-bdd5f99c0d70",
   "metadata": {},
   "source": [
    "**Task 6**: Define a sub-setting criterion to create a new geopandas dataframe where you filter the\n",
    "selected dataset based on a categorical attribute/"
   ]
  },
  {
   "cell_type": "markdown",
   "id": "9997987a-6e65-4326-a91e-9546c0f9cb7c",
   "metadata": {},
   "source": [
    "**Task 7**: Define a sub-setting criterion to create a new geopandas dataframe where you filter the\n",
    "selected dataset based on a numerical attribute"
   ]
  },
  {
   "cell_type": "markdown",
   "id": "e8855365-2018-439c-a20f-4169ee626884",
   "metadata": {},
   "source": [
    "**Task 8**: Plot the new/filtered geopandas dataframe using one of the attributes to create a\n",
    "choropleth map."
   ]
  },
  {
   "cell_type": "markdown",
   "id": "0efa5170-cd8a-404e-9df1-4597ca37bd3e",
   "metadata": {},
   "source": [
    "## Python Rasterrio"
   ]
  },
  {
   "cell_type": "markdown",
   "id": "8eaee5d8-e676-45ce-ad14-0ccb8557509e",
   "metadata": {},
   "source": [
    "The dataset for this part of the assignment is elev.tif a 30 m spatial resolution digital elevation model (DEM) derived from the National Elevation Dataset (NED) in Canada with elevation in meters."
   ]
  },
  {
   "cell_type": "markdown",
   "id": "052026a0-1dce-4d64-b905-d416e066ea9a",
   "metadata": {},
   "source": [
    "**Task 1**: Read the file as a rasterio dataset."
   ]
  },
  {
   "cell_type": "markdown",
   "id": "4d6487fb-d961-4733-bf71-837727f52918",
   "metadata": {},
   "source": [
    "**Task 2**: What is the CRS of the dataset?"
   ]
  },
  {
   "cell_type": "markdown",
   "id": "7e20237a-67d7-47f6-b233-8f6ea8496df0",
   "metadata": {},
   "source": [
    "**Task 3**: Describe the raster dataset regarding the raster extent (bounds), the reference system, and\n",
    "how many bands are in this dataset."
   ]
  },
  {
   "cell_type": "markdown",
   "id": "c0dfab9b-2f14-4292-a92f-e55b676a046d",
   "metadata": {},
   "source": [
    "**Task 4**: Create a plot/map of the raster dataset."
   ]
  },
  {
   "cell_type": "markdown",
   "id": "33e5ee7f-9234-455c-8ad0-f2eec7a5503d",
   "metadata": {},
   "source": [
    "**Task 5**: Create Histograms from the raster."
   ]
  },
  {
   "cell_type": "markdown",
   "id": "c3f2c4c4-f3c8-4c12-b632-dedfb18eb8e0",
   "metadata": {},
   "source": [
    "## The End!"
   ]
  }
 ],
 "metadata": {
  "kernelspec": {
   "display_name": "Python 3 (ipykernel)",
   "language": "python",
   "name": "python3"
  },
  "language_info": {
   "codemirror_mode": {
    "name": "ipython",
    "version": 3
   },
   "file_extension": ".py",
   "mimetype": "text/x-python",
   "name": "python",
   "nbconvert_exporter": "python",
   "pygments_lexer": "ipython3",
   "version": "3.10.9"
  }
 },
 "nbformat": 4,
 "nbformat_minor": 5
}
