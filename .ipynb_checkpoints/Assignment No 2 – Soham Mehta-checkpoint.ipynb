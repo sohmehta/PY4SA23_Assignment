{
 "cells": [
  {
   "cell_type": "markdown",
   "id": "4032831c-8fa1-4c7d-afe4-d911a6214547",
   "metadata": {},
   "source": [
    "# Lab Assignment 2 – Soham Mehta"
   ]
  },
  {
   "cell_type": "markdown",
   "id": "81d8896b-2836-414f-bbc3-0267fae338d6",
   "metadata": {},
   "source": [
    "#### Your student code: 220038961\n",
    "#### Repository URL: https://github.com/sohmehta/PY4SA23_Assignment.git"
   ]
  },
  {
   "cell_type": "markdown",
   "id": "be17995e-79de-4575-955a-829836ed1561",
   "metadata": {},
   "source": [
    "## Python Basics"
   ]
  },
  {
   "cell_type": "markdown",
   "id": "9e739b8a-305d-4daf-ba59-8616a1593849",
   "metadata": {},
   "source": [
    "### Task 1"
   ]
  },
  {
   "cell_type": "markdown",
   "id": "49796565-6045-4eb8-b415-be1d8c004c94",
   "metadata": {},
   "source": [
    "Create an If...Else statement that will test whether a number is divisible by three. \"YOUR VALUE is divisible by 3\" should be printed if the value is divisible by three. \"YOUR VALUE is not divisible by three\" should be printed if it is not divisible by three. Test the statement on a numeric variable. Upper case text in the print statement should be replaced with the tested number."
   ]
  },
  {
   "cell_type": "code",
   "execution_count": 43,
   "id": "65985917-dc14-4d8e-b323-de9db423b28f",
   "metadata": {},
   "outputs": [
    {
     "name": "stdout",
     "output_type": "stream",
     "text": [
      "6 is divisible by 3.\n"
     ]
    }
   ],
   "source": [
    "x = 6 \n",
    "if x % 3 == 0:\n",
    "    print(str(x) + \" is divisible by 3.\")\n",
    "else:\n",
    "    print(str(x) + \" is not divisible by three.\") \n",
    "    "
   ]
  },
  {
   "cell_type": "markdown",
   "id": "58f74919-75d6-4535-a5a2-4d26e4ed7b5c",
   "metadata": {},
   "source": [
    "### Task 2"
   ]
  },
  {
   "cell_type": "markdown",
   "id": "c73b8945-e9c1-4318-aa61-8ee1a78e9dc4",
   "metadata": {},
   "source": [
    "Create an If...Else statement that will test whether a type of fruit, represented as a text string, is in a list of acceptable fruits (apple, orange, pear, kiwi, or strawberry). If the fruit is on the list, the following should be printed: \"YOUR FRUIT is acceptable.\" If not, then the following should be printed: \"YOUR FRUIT is not acceptable.\" Upper case text in the print statement should be replaced with the tested fruit."
   ]
  },
  {
   "cell_type": "code",
   "execution_count": 177,
   "id": "2c0021a7-5ace-4693-902b-af343efb2cbf",
   "metadata": {},
   "outputs": [
    {
     "name": "stdout",
     "output_type": "stream",
     "text": [
      "banana is not acceptable.\n"
     ]
    }
   ],
   "source": [
    "fruits = [\"apple\", \"orange\", \"pear\", \"kiwi\", \"strawberry\"]\n",
    "item= \"banana\"\n",
    "if item in fruits:\n",
    "    print(item + \" is acceptable.\")\n",
    "else:\n",
    "    print(item + \" is not acceptable.\")\n"
   ]
  },
  {
   "cell_type": "markdown",
   "id": "19ce255a-aa2e-4ec6-a2a4-ff521bb5fa1d",
   "metadata": {},
   "source": [
    "### Task 3"
   ]
  },
  {
   "cell_type": "markdown",
   "id": "3774820f-21cf-471e-8c65-9168fc7def8b",
   "metadata": {},
   "source": [
    "Create a function to calculate the distance between two coordinates using the haversine formula. Write the following formula where the input parameters are a pair of coordinates as two lists."
   ]
  },
  {
   "cell_type": "code",
   "execution_count": 61,
   "id": "6924d464-64a2-4428-af10-211bbc1c6595",
   "metadata": {},
   "outputs": [
    {
     "name": "stdout",
     "output_type": "stream",
     "text": [
      "Collecting haversine\n",
      "  Downloading haversine-2.8.0-py2.py3-none-any.whl (7.7 kB)\n",
      "Installing collected packages: haversine\n",
      "Successfully installed haversine-2.8.0\n"
     ]
    }
   ],
   "source": [
    "!pip install haversine"
   ]
  },
  {
   "cell_type": "code",
   "execution_count": 81,
   "id": "089bf414-cfc0-4d14-9a5b-5dce204eedfb",
   "metadata": {},
   "outputs": [
    {
     "data": {
      "text/plain": [
       "0.675398815208229"
      ]
     },
     "execution_count": 81,
     "metadata": {},
     "output_type": "execute_result"
    }
   ],
   "source": [
    "import haversine as hs\n",
    "#Calculating the distance between Agnes Blackadder Hall (loc1) & David Rusell Apartments (loc2), St Andrews, UK.\n",
    "loc1=(56.3402,-2.8142)\n",
    "loc2=(56.335165326,-2.820330052)\n",
    "hs.haversine(loc1,loc2)"
   ]
  },
  {
   "cell_type": "code",
   "execution_count": 79,
   "id": "a54b7b1b-a351-441c-8a2a-0918c32604c8",
   "metadata": {},
   "outputs": [
    {
     "name": "stdout",
     "output_type": "stream",
     "text": [
      "0.6753978823089409 km\n"
     ]
    }
   ],
   "source": [
    "#Calculating distance using the formula: \n",
    "from math import radians, cos, sin, asin, sqrt\n",
    "def distance(lat1, lat2, lon1, lon2):\n",
    "    \n",
    "    lon1 = radians(lon1)\n",
    "    lon2 = radians(lon2)\n",
    "    lat1 = radians(lat1)\n",
    "    lat2 = radians(lat2)\n",
    "\n",
    "    dlon = lon2 - lon1\n",
    "    dlat = lat2 - lat1\n",
    "    a = sin(dlat / 2)**2 + cos(lat1) * cos(lat2) * sin(dlon / 2)**2\n",
    "\n",
    "    c = 2 * asin(sqrt(a))\n",
    "\n",
    "    r = 6371\n",
    "\n",
    "    return(c * r)\n",
    "\n",
    "lat1 = 56.3402\n",
    "lat2 = 56.335165326\n",
    "lon1 = -2.8142\n",
    "lon2 = -2.820330052\n",
    "print(distance(lat1, lat2, lon1, lon2), \"km\")"
   ]
  },
  {
   "cell_type": "markdown",
   "id": "a7b1a2c7-0aa7-4938-862f-652186da2dad",
   "metadata": {},
   "source": [
    "## Pandas & NumPy"
   ]
  },
  {
   "cell_type": "markdown",
   "id": "03c8bdb9-7c52-41f8-9904-efc2b43942ee",
   "metadata": {},
   "source": [
    "This exercise focuses on the use of Pandas to query and summarise data. You will need to import the NumPy and Pandas libraries. Produce code to answer the questions below. Deliver your results in a Jupyter Notebook. Make sure all questions and answers are clearly labelled.\n",
    "\n",
    "The portland_park_trees.csv file contains information about individual trees in city parks in Portland, Oregon. These data were obtained from the City of Portland Office of Parks &Recreation (https://www.portlandoregon.gov/parks/article/433143)."
   ]
  },
  {
   "cell_type": "code",
   "execution_count": 15,
   "id": "0aef80cc-6d19-4209-a30c-0fbc6192d521",
   "metadata": {},
   "outputs": [],
   "source": [
    "import pandas as pd\n",
    "import numpy as np"
   ]
  },
  {
   "cell_type": "code",
   "execution_count": 228,
   "id": "89c0a24f-8f50-49ee-bbfc-f4b00fe843fc",
   "metadata": {},
   "outputs": [
    {
     "data": {
      "text/html": [
       "<div>\n",
       "<style scoped>\n",
       "    .dataframe tbody tr th:only-of-type {\n",
       "        vertical-align: middle;\n",
       "    }\n",
       "\n",
       "    .dataframe tbody tr th {\n",
       "        vertical-align: top;\n",
       "    }\n",
       "\n",
       "    .dataframe thead th {\n",
       "        text-align: right;\n",
       "    }\n",
       "</style>\n",
       "<table border=\"1\" class=\"dataframe\">\n",
       "  <thead>\n",
       "    <tr style=\"text-align: right;\">\n",
       "      <th></th>\n",
       "      <th>fid</th>\n",
       "      <th>OBJECTID</th>\n",
       "      <th>Inventory_</th>\n",
       "      <th>Species</th>\n",
       "      <th>DBH</th>\n",
       "      <th>Condition</th>\n",
       "      <th>TreeHeight</th>\n",
       "      <th>CrownWidth</th>\n",
       "      <th>CrownWid_1</th>\n",
       "      <th>CollectedB</th>\n",
       "      <th>...</th>\n",
       "      <th>Genus</th>\n",
       "      <th>Common_nam</th>\n",
       "      <th>Genus_spec</th>\n",
       "      <th>Functional</th>\n",
       "      <th>Size</th>\n",
       "      <th>Native</th>\n",
       "      <th>Edible</th>\n",
       "      <th>Nuisance</th>\n",
       "      <th>Origin</th>\n",
       "      <th>Species_fa</th>\n",
       "    </tr>\n",
       "  </thead>\n",
       "  <tbody>\n",
       "    <tr>\n",
       "      <th>0</th>\n",
       "      <td>1</td>\n",
       "      <td>426</td>\n",
       "      <td>2017/05/09</td>\n",
       "      <td>PSME</td>\n",
       "      <td>37.4</td>\n",
       "      <td>Fair</td>\n",
       "      <td>105.0</td>\n",
       "      <td>44.0</td>\n",
       "      <td>57.0</td>\n",
       "      <td>staff</td>\n",
       "      <td>...</td>\n",
       "      <td>Pseudotsuga</td>\n",
       "      <td>Douglas-fir</td>\n",
       "      <td>Pseudotsuga menziesii</td>\n",
       "      <td>CE</td>\n",
       "      <td>L</td>\n",
       "      <td>Yes</td>\n",
       "      <td>NaN</td>\n",
       "      <td>NaN</td>\n",
       "      <td>North America - from British Columbia south to...</td>\n",
       "      <td>Bracts on cones look like a mouse's feet and t...</td>\n",
       "    </tr>\n",
       "    <tr>\n",
       "      <th>1</th>\n",
       "      <td>2</td>\n",
       "      <td>427</td>\n",
       "      <td>2017/05/09</td>\n",
       "      <td>PSME</td>\n",
       "      <td>32.5</td>\n",
       "      <td>Fair</td>\n",
       "      <td>94.0</td>\n",
       "      <td>49.0</td>\n",
       "      <td>45.0</td>\n",
       "      <td>staff</td>\n",
       "      <td>...</td>\n",
       "      <td>Pseudotsuga</td>\n",
       "      <td>Douglas-fir</td>\n",
       "      <td>Pseudotsuga menziesii</td>\n",
       "      <td>CE</td>\n",
       "      <td>L</td>\n",
       "      <td>Yes</td>\n",
       "      <td>NaN</td>\n",
       "      <td>NaN</td>\n",
       "      <td>North America - from British Columbia south to...</td>\n",
       "      <td>Bracts on cones look like a mouse's feet and t...</td>\n",
       "    </tr>\n",
       "    <tr>\n",
       "      <th>2</th>\n",
       "      <td>3</td>\n",
       "      <td>428</td>\n",
       "      <td>2017/05/09</td>\n",
       "      <td>CRLA</td>\n",
       "      <td>9.7</td>\n",
       "      <td>Fair</td>\n",
       "      <td>23.0</td>\n",
       "      <td>28.0</td>\n",
       "      <td>27.0</td>\n",
       "      <td>staff</td>\n",
       "      <td>...</td>\n",
       "      <td>Crataegus</td>\n",
       "      <td>Lavalle hawthorn</td>\n",
       "      <td>Crataegus x lavalleei</td>\n",
       "      <td>BD</td>\n",
       "      <td>S</td>\n",
       "      <td>No</td>\n",
       "      <td>NaN</td>\n",
       "      <td>NaN</td>\n",
       "      <td>North America - a hybrid between a Mexican and...</td>\n",
       "      <td>Like most hawthorns, the tree has stout thorns...</td>\n",
       "    </tr>\n",
       "    <tr>\n",
       "      <th>3</th>\n",
       "      <td>4</td>\n",
       "      <td>429</td>\n",
       "      <td>2017/05/09</td>\n",
       "      <td>QURU</td>\n",
       "      <td>10.3</td>\n",
       "      <td>Poor</td>\n",
       "      <td>28.0</td>\n",
       "      <td>38.0</td>\n",
       "      <td>31.0</td>\n",
       "      <td>staff</td>\n",
       "      <td>...</td>\n",
       "      <td>Quercus</td>\n",
       "      <td>northern red oak</td>\n",
       "      <td>Quercus rubra</td>\n",
       "      <td>BD</td>\n",
       "      <td>L</td>\n",
       "      <td>No</td>\n",
       "      <td>NaN</td>\n",
       "      <td>NaN</td>\n",
       "      <td>North America - eastern Canada and eastern USA...</td>\n",
       "      <td>Acorns take two years to mature and are an imp...</td>\n",
       "    </tr>\n",
       "    <tr>\n",
       "      <th>4</th>\n",
       "      <td>5</td>\n",
       "      <td>430</td>\n",
       "      <td>2017/05/09</td>\n",
       "      <td>PSME</td>\n",
       "      <td>33.2</td>\n",
       "      <td>Fair</td>\n",
       "      <td>102.0</td>\n",
       "      <td>43.0</td>\n",
       "      <td>44.0</td>\n",
       "      <td>staff</td>\n",
       "      <td>...</td>\n",
       "      <td>Pseudotsuga</td>\n",
       "      <td>Douglas-fir</td>\n",
       "      <td>Pseudotsuga menziesii</td>\n",
       "      <td>CE</td>\n",
       "      <td>L</td>\n",
       "      <td>Yes</td>\n",
       "      <td>NaN</td>\n",
       "      <td>NaN</td>\n",
       "      <td>North America - from British Columbia south to...</td>\n",
       "      <td>Bracts on cones look like a mouse's feet and t...</td>\n",
       "    </tr>\n",
       "  </tbody>\n",
       "</table>\n",
       "<p>5 rows × 40 columns</p>\n",
       "</div>"
      ],
      "text/plain": [
       "   fid  OBJECTID  Inventory_ Species   DBH Condition  TreeHeight  CrownWidth  \\\n",
       "0    1       426  2017/05/09    PSME  37.4      Fair       105.0        44.0   \n",
       "1    2       427  2017/05/09    PSME  32.5      Fair        94.0        49.0   \n",
       "2    3       428  2017/05/09    CRLA   9.7      Fair        23.0        28.0   \n",
       "3    4       429  2017/05/09    QURU  10.3      Poor        28.0        38.0   \n",
       "4    5       430  2017/05/09    PSME  33.2      Fair       102.0        43.0   \n",
       "\n",
       "   CrownWid_1 CollectedB  ...        Genus        Common_nam  \\\n",
       "0        57.0      staff  ...  Pseudotsuga       Douglas-fir   \n",
       "1        45.0      staff  ...  Pseudotsuga       Douglas-fir   \n",
       "2        27.0      staff  ...    Crataegus  Lavalle hawthorn   \n",
       "3        31.0      staff  ...      Quercus  northern red oak   \n",
       "4        44.0      staff  ...  Pseudotsuga       Douglas-fir   \n",
       "\n",
       "              Genus_spec Functional Size Native Edible Nuisance  \\\n",
       "0  Pseudotsuga menziesii         CE    L    Yes    NaN      NaN   \n",
       "1  Pseudotsuga menziesii         CE    L    Yes    NaN      NaN   \n",
       "2  Crataegus x lavalleei         BD    S     No    NaN      NaN   \n",
       "3          Quercus rubra         BD    L     No    NaN      NaN   \n",
       "4  Pseudotsuga menziesii         CE    L    Yes    NaN      NaN   \n",
       "\n",
       "                                              Origin  \\\n",
       "0  North America - from British Columbia south to...   \n",
       "1  North America - from British Columbia south to...   \n",
       "2  North America - a hybrid between a Mexican and...   \n",
       "3  North America - eastern Canada and eastern USA...   \n",
       "4  North America - from British Columbia south to...   \n",
       "\n",
       "                                          Species_fa  \n",
       "0  Bracts on cones look like a mouse's feet and t...  \n",
       "1  Bracts on cones look like a mouse's feet and t...  \n",
       "2  Like most hawthorns, the tree has stout thorns...  \n",
       "3  Acorns take two years to mature and are an imp...  \n",
       "4  Bracts on cones look like a mouse's feet and t...  \n",
       "\n",
       "[5 rows x 40 columns]"
      ]
     },
     "execution_count": 228,
     "metadata": {},
     "output_type": "execute_result"
    }
   ],
   "source": [
    "trees_df = pd.read_csv(\"Assignment 2 data/portland_park_trees.csv\")\n",
    "trees_df.head(5)"
   ]
  },
  {
   "cell_type": "code",
   "execution_count": 229,
   "id": "dba7247e-7c01-4b29-8cd6-d146dd6aa0af",
   "metadata": {},
   "outputs": [
    {
     "data": {
      "text/plain": [
       "(25534, 40)"
      ]
     },
     "execution_count": 229,
     "metadata": {},
     "output_type": "execute_result"
    }
   ],
   "source": [
    "trees_df.shape"
   ]
  },
  {
   "cell_type": "markdown",
   "id": "6f8c8474-df46-439c-877a-24f777d3d6dd",
   "metadata": {},
   "source": [
    "**Question 1**: How many trees are of the Quercus or Acer genus? "
   ]
  },
  {
   "cell_type": "code",
   "execution_count": 264,
   "id": "4ab6a5b8-0399-4601-a08a-2d301a054932",
   "metadata": {},
   "outputs": [
    {
     "name": "stdout",
     "output_type": "stream",
     "text": [
      "5675\n"
     ]
    }
   ],
   "source": [
    "sample1 = trees_df.query('Genus== \"Acer\" or Genus ==\"Quercus\"')\n",
    "print (len(sample1))"
   ]
  },
  {
   "cell_type": "markdown",
   "id": "2af235e1-85b1-4c94-ab39-3f37f68b596c",
   "metadata": {},
   "source": [
    "**Question 2**: How many trees are of the Quercus or Acer genus and have a DBH larger than 50 inches?"
   ]
  },
  {
   "cell_type": "code",
   "execution_count": 52,
   "id": "e872d625-4240-462a-92f5-bf24725c87f2",
   "metadata": {},
   "outputs": [
    {
     "name": "stdout",
     "output_type": "stream",
     "text": [
      "3666\n",
      "\n"
     ]
    }
   ],
   "source": [
    "sample2 = trees_df.query('Genus==\"Acer\" or Genus == \"Quercus\" and DBH > 50')\n",
    "print(len(sample2))\n",
    "print('')"
   ]
  },
  {
   "cell_type": "markdown",
   "id": "b62806ae-cb79-40be-b57d-fc2c37441c95",
   "metadata": {},
   "source": [
    "**Question 3**: Which genus has the highest mean DBH of the following genera: Quercus, Acer, or Fraxinus?"
   ]
  },
  {
   "cell_type": "code",
   "execution_count": 307,
   "id": "dd1d3770-97d3-4df9-89a0-78ad0f46f20d",
   "metadata": {},
   "outputs": [
    {
     "data": {
      "text/plain": [
       "Genus\n",
       "Acer        18.419085\n",
       "Fraxinus    11.033610\n",
       "Quercus     23.568238\n",
       "Name: DBH, dtype: float64"
      ]
     },
     "execution_count": 307,
     "metadata": {},
     "output_type": "execute_result"
    }
   ],
   "source": [
    "sample_genus = trees_df.query('Genus==\"Acer\" or Genus==\"Quercus\" or Genus==\"Fraxinus\"')\n",
    "sample_genus.groupby('Genus')['DBH'].mean()\n",
    "\n",
    "#Quercus has the highest mean DBH in comparison to Acer and Fraxinus genuses."
   ]
  },
  {
   "cell_type": "markdown",
   "id": "6e5c0ba1-e4c6-4dc9-87f9-aaf07bfd263d",
   "metadata": {},
   "source": [
    "**Question 4**: How many different species of trees are recorded in the Acer genus?"
   ]
  },
  {
   "cell_type": "code",
   "execution_count": 317,
   "id": "832a062e-2295-41d8-b9b6-61c39e4d8eee",
   "metadata": {},
   "outputs": [
    {
     "data": {
      "text/plain": [
       "20"
      ]
     },
     "execution_count": 317,
     "metadata": {},
     "output_type": "execute_result"
    }
   ],
   "source": [
    "just_Acer = trees_df[trees_df[\"Genus\"]==\"Acer\"]\n",
    "just_Acer['Genus_spec'].nunique()"
   ]
  },
  {
   "cell_type": "code",
   "execution_count": 117,
   "id": "8dda2113-e3f2-4018-b290-5ffcfb8854dc",
   "metadata": {},
   "outputs": [
    {
     "data": {
      "text/plain": [
       "Genus\n",
       "Abies            10\n",
       "Acer             20\n",
       "Aesculus          7\n",
       "Ailanthus         1\n",
       "Albizia           1\n",
       "                 ..\n",
       "Unknown           1\n",
       "Viburnum          1\n",
       "Xanthocyparis     1\n",
       "Zelkova           1\n",
       "x                 2\n",
       "Name: Genus_spec, Length: 117, dtype: int64"
      ]
     },
     "execution_count": 117,
     "metadata": {},
     "output_type": "execute_result"
    }
   ],
   "source": [
    "trees_df.groupby('Genus')['Genus_spec'].nunique()\n",
    "#20 different species of trees are recorded in the Acer genus"
   ]
  },
  {
   "cell_type": "markdown",
   "id": "1bfd2082-9495-47e7-8b3e-caf1657bd167",
   "metadata": {},
   "source": [
    "The world_cities.csv is a file that contains cities, countries, population, coordinates (geographic) and a Boolean attribute that defines if the city is the capital city or not. Read this file as a Pandas dataframe and create the required scripts to:"
   ]
  },
  {
   "cell_type": "code",
   "execution_count": 156,
   "id": "440528e3-f16b-4cfc-8804-1fa64c950775",
   "metadata": {},
   "outputs": [
    {
     "data": {
      "text/html": [
       "<div>\n",
       "<style scoped>\n",
       "    .dataframe tbody tr th:only-of-type {\n",
       "        vertical-align: middle;\n",
       "    }\n",
       "\n",
       "    .dataframe tbody tr th {\n",
       "        vertical-align: top;\n",
       "    }\n",
       "\n",
       "    .dataframe thead th {\n",
       "        text-align: right;\n",
       "    }\n",
       "</style>\n",
       "<table border=\"1\" class=\"dataframe\">\n",
       "  <thead>\n",
       "    <tr style=\"text-align: right;\">\n",
       "      <th></th>\n",
       "      <th>city</th>\n",
       "      <th>country</th>\n",
       "      <th>pop</th>\n",
       "      <th>lat</th>\n",
       "      <th>lon</th>\n",
       "      <th>capital</th>\n",
       "    </tr>\n",
       "  </thead>\n",
       "  <tbody>\n",
       "    <tr>\n",
       "      <th>0</th>\n",
       "      <td>'Abasan al-Jadidah</td>\n",
       "      <td>Palestine</td>\n",
       "      <td>5629</td>\n",
       "      <td>31.31</td>\n",
       "      <td>34.34</td>\n",
       "      <td>0</td>\n",
       "    </tr>\n",
       "    <tr>\n",
       "      <th>1</th>\n",
       "      <td>'Abasan al-Kabirah</td>\n",
       "      <td>Palestine</td>\n",
       "      <td>18999</td>\n",
       "      <td>31.32</td>\n",
       "      <td>34.35</td>\n",
       "      <td>0</td>\n",
       "    </tr>\n",
       "    <tr>\n",
       "      <th>2</th>\n",
       "      <td>'Abdul Hakim</td>\n",
       "      <td>Pakistan</td>\n",
       "      <td>47788</td>\n",
       "      <td>30.55</td>\n",
       "      <td>72.11</td>\n",
       "      <td>0</td>\n",
       "    </tr>\n",
       "    <tr>\n",
       "      <th>3</th>\n",
       "      <td>'Abdullah-as-Salam</td>\n",
       "      <td>Kuwait</td>\n",
       "      <td>21817</td>\n",
       "      <td>29.36</td>\n",
       "      <td>47.98</td>\n",
       "      <td>0</td>\n",
       "    </tr>\n",
       "    <tr>\n",
       "      <th>4</th>\n",
       "      <td>'Abud</td>\n",
       "      <td>Palestine</td>\n",
       "      <td>2456</td>\n",
       "      <td>32.03</td>\n",
       "      <td>35.07</td>\n",
       "      <td>0</td>\n",
       "    </tr>\n",
       "  </tbody>\n",
       "</table>\n",
       "</div>"
      ],
      "text/plain": [
       "                 city    country    pop    lat    lon  capital\n",
       "0  'Abasan al-Jadidah  Palestine   5629  31.31  34.34        0\n",
       "1  'Abasan al-Kabirah  Palestine  18999  31.32  34.35        0\n",
       "2        'Abdul Hakim   Pakistan  47788  30.55  72.11        0\n",
       "3  'Abdullah-as-Salam     Kuwait  21817  29.36  47.98        0\n",
       "4               'Abud  Palestine   2456  32.03  35.07        0"
      ]
     },
     "execution_count": 156,
     "metadata": {},
     "output_type": "execute_result"
    }
   ],
   "source": [
    "cities_df = pd.read_csv(\"Assignment 2 data/world_cities.csv\")\n",
    "cities_df.head(5)"
   ]
  },
  {
   "cell_type": "markdown",
   "id": "1c359185-4b9a-4000-9981-d2fc873c309d",
   "metadata": {},
   "source": [
    "**Question 5**: \n",
    "- Calculate a new column named \"pop_M\" (population in millions), by transforming the \"pop\" (population) column.\n",
    "- Remove the original \"pop\" column.\n",
    "- Choose/subset a city that starts with the same letter as your first name (for example, \"Mexico City\" if your first name is Michael).\n",
    "- Subset the five biggest (i.e., largest population sizes) cities from the country where your selected city is.\n",
    "- Print the result; Make sure you write the scripts in different code cells where you describe the process."
   ]
  },
  {
   "cell_type": "code",
   "execution_count": 157,
   "id": "9977145b-a177-40f4-abe2-7553493220ed",
   "metadata": {},
   "outputs": [
    {
     "data": {
      "text/html": [
       "<div>\n",
       "<style scoped>\n",
       "    .dataframe tbody tr th:only-of-type {\n",
       "        vertical-align: middle;\n",
       "    }\n",
       "\n",
       "    .dataframe tbody tr th {\n",
       "        vertical-align: top;\n",
       "    }\n",
       "\n",
       "    .dataframe thead th {\n",
       "        text-align: right;\n",
       "    }\n",
       "</style>\n",
       "<table border=\"1\" class=\"dataframe\">\n",
       "  <thead>\n",
       "    <tr style=\"text-align: right;\">\n",
       "      <th></th>\n",
       "      <th>city</th>\n",
       "      <th>country</th>\n",
       "      <th>lat</th>\n",
       "      <th>lon</th>\n",
       "      <th>capital</th>\n",
       "      <th>pop_M</th>\n",
       "    </tr>\n",
       "  </thead>\n",
       "  <tbody>\n",
       "    <tr>\n",
       "      <th>0</th>\n",
       "      <td>'Abasan al-Jadidah</td>\n",
       "      <td>Palestine</td>\n",
       "      <td>31.31</td>\n",
       "      <td>34.34</td>\n",
       "      <td>0</td>\n",
       "      <td>5629</td>\n",
       "    </tr>\n",
       "    <tr>\n",
       "      <th>1</th>\n",
       "      <td>'Abasan al-Kabirah</td>\n",
       "      <td>Palestine</td>\n",
       "      <td>31.32</td>\n",
       "      <td>34.35</td>\n",
       "      <td>0</td>\n",
       "      <td>18999</td>\n",
       "    </tr>\n",
       "    <tr>\n",
       "      <th>2</th>\n",
       "      <td>'Abdul Hakim</td>\n",
       "      <td>Pakistan</td>\n",
       "      <td>30.55</td>\n",
       "      <td>72.11</td>\n",
       "      <td>0</td>\n",
       "      <td>47788</td>\n",
       "    </tr>\n",
       "    <tr>\n",
       "      <th>3</th>\n",
       "      <td>'Abdullah-as-Salam</td>\n",
       "      <td>Kuwait</td>\n",
       "      <td>29.36</td>\n",
       "      <td>47.98</td>\n",
       "      <td>0</td>\n",
       "      <td>21817</td>\n",
       "    </tr>\n",
       "    <tr>\n",
       "      <th>4</th>\n",
       "      <td>'Abud</td>\n",
       "      <td>Palestine</td>\n",
       "      <td>32.03</td>\n",
       "      <td>35.07</td>\n",
       "      <td>0</td>\n",
       "      <td>2456</td>\n",
       "    </tr>\n",
       "  </tbody>\n",
       "</table>\n",
       "</div>"
      ],
      "text/plain": [
       "                 city    country    lat    lon  capital  pop_M\n",
       "0  'Abasan al-Jadidah  Palestine  31.31  34.34        0   5629\n",
       "1  'Abasan al-Kabirah  Palestine  31.32  34.35        0  18999\n",
       "2        'Abdul Hakim   Pakistan  30.55  72.11        0  47788\n",
       "3  'Abdullah-as-Salam     Kuwait  29.36  47.98        0  21817\n",
       "4               'Abud  Palestine  32.03  35.07        0   2456"
      ]
     },
     "execution_count": 157,
     "metadata": {},
     "output_type": "execute_result"
    }
   ],
   "source": [
    "cities_df['pop_M']= cities_df['pop']\n",
    "\n",
    "cities_df.drop(['pop'], inplace = True, axis=1)\n",
    "cities_df.head(5)"
   ]
  },
  {
   "cell_type": "code",
   "execution_count": 308,
   "id": "48c2432a-08a4-4b91-80a8-3bbcb6ef8c94",
   "metadata": {},
   "outputs": [
    {
     "name": "stdout",
     "output_type": "stream",
     "text": [
      "           city country    lat     lon  capital     pop_M\n",
      "34722  Shanghai   China  31.23  121.47        2  15017783\n"
     ]
    }
   ],
   "source": [
    "#Chose 'Shanghai' as a city that starts the same letter as my first name 'Soham.'\n",
    "just_s = cities_df.query('city==\"Shanghai\"')\n",
    "print(just_s.head(15))"
   ]
  },
  {
   "cell_type": "code",
   "execution_count": 335,
   "id": "80b815c6-112c-4ef5-83c5-e6dc00015b84",
   "metadata": {},
   "outputs": [
    {
     "data": {
      "text/html": [
       "<div>\n",
       "<style scoped>\n",
       "    .dataframe tbody tr th:only-of-type {\n",
       "        vertical-align: middle;\n",
       "    }\n",
       "\n",
       "    .dataframe tbody tr th {\n",
       "        vertical-align: top;\n",
       "    }\n",
       "\n",
       "    .dataframe thead th {\n",
       "        text-align: right;\n",
       "    }\n",
       "</style>\n",
       "<table border=\"1\" class=\"dataframe\">\n",
       "  <thead>\n",
       "    <tr style=\"text-align: right;\">\n",
       "      <th></th>\n",
       "      <th>city</th>\n",
       "      <th>country</th>\n",
       "      <th>lat</th>\n",
       "      <th>lon</th>\n",
       "      <th>capital</th>\n",
       "      <th>pop_M</th>\n",
       "    </tr>\n",
       "  </thead>\n",
       "  <tbody>\n",
       "    <tr>\n",
       "      <th>34722</th>\n",
       "      <td>Shanghai</td>\n",
       "      <td>China</td>\n",
       "      <td>31.23</td>\n",
       "      <td>121.47</td>\n",
       "      <td>2</td>\n",
       "      <td>15017783</td>\n",
       "    </tr>\n",
       "    <tr>\n",
       "      <th>3825</th>\n",
       "      <td>Beijing</td>\n",
       "      <td>China</td>\n",
       "      <td>39.93</td>\n",
       "      <td>116.40</td>\n",
       "      <td>1</td>\n",
       "      <td>7602069</td>\n",
       "    </tr>\n",
       "    <tr>\n",
       "      <th>41906</th>\n",
       "      <td>Wuhan</td>\n",
       "      <td>China</td>\n",
       "      <td>30.58</td>\n",
       "      <td>114.27</td>\n",
       "      <td>3</td>\n",
       "      <td>4236023</td>\n",
       "    </tr>\n",
       "    <tr>\n",
       "      <th>7594</th>\n",
       "      <td>Chongqing</td>\n",
       "      <td>China</td>\n",
       "      <td>29.57</td>\n",
       "      <td>106.58</td>\n",
       "      <td>2</td>\n",
       "      <td>4133663</td>\n",
       "    </tr>\n",
       "    <tr>\n",
       "      <th>41966</th>\n",
       "      <td>Xian</td>\n",
       "      <td>China</td>\n",
       "      <td>34.27</td>\n",
       "      <td>108.90</td>\n",
       "      <td>0</td>\n",
       "      <td>4091916</td>\n",
       "    </tr>\n",
       "  </tbody>\n",
       "</table>\n",
       "</div>"
      ],
      "text/plain": [
       "            city country    lat     lon  capital     pop_M\n",
       "34722   Shanghai   China  31.23  121.47        2  15017783\n",
       "3825     Beijing   China  39.93  116.40        1   7602069\n",
       "41906      Wuhan   China  30.58  114.27        3   4236023\n",
       "7594   Chongqing   China  29.57  106.58        2   4133663\n",
       "41966       Xian   China  34.27  108.90        0   4091916"
      ]
     },
     "execution_count": 335,
     "metadata": {},
     "output_type": "execute_result"
    }
   ],
   "source": [
    "#Subset the 5 largest populus cities from China.\n",
    "china_cities_df = cities_df.query('country==\"China\" and pop_M > 500000')\n",
    "china_cities_df.nlargest(5, ['pop_M'])"
   ]
  },
  {
   "cell_type": "markdown",
   "id": "6b545975-de13-4b6c-86ed-89eb737182aa",
   "metadata": {},
   "source": [
    "## Python Data Visualization"
   ]
  },
  {
   "cell_type": "markdown",
   "id": "ac12f161-ac2a-499e-ac08-1b3ed8150b1f",
   "metadata": {},
   "source": [
    "Using the same dataset portland_park_trees.csv, create using seaborn, pandas or matplotlib libraries the following charts:"
   ]
  },
  {
   "cell_type": "code",
   "execution_count": 310,
   "id": "00715219-9e3a-4286-b1f4-5d37def8ff26",
   "metadata": {},
   "outputs": [],
   "source": [
    "import matplotlib.pyplot as plt\n",
    "import seaborn as sns\n",
    "import pandas as pd"
   ]
  },
  {
   "cell_type": "code",
   "execution_count": 311,
   "id": "040e8779-ba0a-47d8-8aa9-4bdfe95be569",
   "metadata": {},
   "outputs": [],
   "source": [
    "trees= pd.read_csv(\"Assignment 2 data/portland_park_trees.csv\")\n",
    "trees.columns =[column.replace(\" \", \"_\") for column in trees.columns]"
   ]
  },
  {
   "cell_type": "markdown",
   "id": "65a65417-ba39-4242-ad64-895641784185",
   "metadata": {},
   "source": [
    "**Graph 1**: Create a scatterplot for just trees in the Ulmus genus with DBH mapped to the x-axis and tree height mapped to the y-axis (Hint: You will need to use the “Genus”, “DBH”, and “TreeHeight” attributes.)."
   ]
  },
  {
   "cell_type": "code",
   "execution_count": 312,
   "id": "b655b3d0-d34e-44b6-a2cf-22ba4801cf56",
   "metadata": {},
   "outputs": [
    {
     "data": {
      "image/png": "[encoded data removed]",
      "text/plain": [
       "<Figure size 640x480 with 1 Axes>"
      ]
     },
     "metadata": {},
     "output_type": "display_data"
    }
   ],
   "source": [
    "just_ulmus = trees.query('Genus==\"Ulmus\"')\n",
    "sp1 = plt.scatter(just_ulmus.DBH, just_ulmus.TreeHeight)\n",
    "plt.title('Sactterplot of Ulmus Trees (DBH by TreeHeight)')\n",
    "plt.xlabel(\"DBH\")\n",
    "plt.ylabel(\"TreeHight\")\n",
    "plt.show(sp1)"
   ]
  },
  {
   "cell_type": "markdown",
   "id": "41e3b056-e077-4fcd-9865-31f86141573b",
   "metadata": {},
   "source": [
    "**Graph 2**: Create a scatterplot for just trees in the Ulmus genus with DBH mapped to the x-axis, tree height mapped to the y-axis, and tree species mapped to hue (Hint: You will need to use the “Genus”, “Genus_spec”, “DBH”, and “TreeHeight” attributes.)"
   ]
  },
  {
   "cell_type": "code",
   "execution_count": 313,
   "id": "83890142-42e3-4914-b742-ffaede576bea",
   "metadata": {},
   "outputs": [
    {
     "data": {
      "text/plain": [
       "Text(0.5, 1.0, 'Sactterplot of Ulmus Trees (DBH by TreeHeight) differentiated by species')"
      ]
     },
     "execution_count": 313,
     "metadata": {},
     "output_type": "execute_result"
    },
    {
     "data": {
      "image/png": "[encoded data removed]",
      "text/plain": [
       "<Figure size 754.625x500 with 1 Axes>"
      ]
     },
     "metadata": {},
     "output_type": "display_data"
    }
   ],
   "source": [
    "g2=sns.relplot(x=\"DBH\", y=\"TreeHeight\", hue=\"Genus_spec\", data=just_ulmus)\n",
    "plt.title('Sactterplot of Ulmus Trees (DBH by TreeHeight) differentiated by species')"
   ]
  },
  {
   "cell_type": "markdown",
   "id": "fef6d78f-5824-4fa4-b4f2-f61b4c5ec9b3",
   "metadata": {},
   "source": [
    "**Graph 3**: Create a boxplot of DBH for just the Ulmus genus differentiated by species (or, each species should have its own boxplot)."
   ]
  },
  {
   "cell_type": "code",
   "execution_count": 329,
   "id": "75226edb-2c66-4366-a0c8-23f5a1d9f4e8",
   "metadata": {},
   "outputs": [
    {
     "data": {
      "image/png": "[encoded data removed]",
      "text/plain": [
       "<Figure size 640x480 with 1 Axes>"
      ]
     },
     "metadata": {},
     "output_type": "display_data"
    }
   ],
   "source": [
    "g3=just_ulmus.boxplot(column='DBH', by='Genus_spec')"
   ]
  },
  {
   "cell_type": "markdown",
   "id": "76758119-bab5-4693-8da5-953079562abe",
   "metadata": {},
   "source": [
    "**Graph 4**: Combine Graphs 1 and 3 into a single figure. Do not plot a legend for any of the graphs"
   ]
  },
  {
   "cell_type": "code",
   "execution_count": null,
   "id": "849d7352-ac05-4ada-9e3b-11cc3d9664be",
   "metadata": {},
   "outputs": [],
   "source": [
    "#code here"
   ]
  },
  {
   "cell_type": "markdown",
   "id": "f050595f-f520-48ac-b083-1d9f2577a079",
   "metadata": {},
   "source": [
    "## Python GeoPandas"
   ]
  },
  {
   "cell_type": "markdown",
   "id": "07ca6269-df1c-4901-81ec-9bde5ffacffa",
   "metadata": {},
   "source": [
    "Go to the Spatial Data Portal of Scotland and find any spatial data that you find interesting in a shapefile format. Download this data and Produce code to complete the requested tasks."
   ]
  },
  {
   "cell_type": "markdown",
   "id": "09f4e26b-79ee-4a8e-89a4-1a4e52ee477c",
   "metadata": {},
   "source": [
    "**Task 1**: Read the selected dataset as GeoPandas DataFrame"
   ]
  },
  {
   "cell_type": "code",
   "execution_count": null,
   "id": "7ec8119f-ef51-4e72-88ee-42cbf6e69bc9",
   "metadata": {},
   "outputs": [],
   "source": [
    "#code here"
   ]
  },
  {
   "cell_type": "markdown",
   "id": "a43e3aad-3a95-4db8-8579-f620755be6e1",
   "metadata": {},
   "source": [
    "**Task 2**: Use the correct code to plot the first 5 and the last 5 sets of records in your selected dataset."
   ]
  },
  {
   "cell_type": "markdown",
   "id": "07dce84f-e2c6-417d-9874-c6692d12e0e6",
   "metadata": {},
   "source": [
    "**Task 3**: Create a map where you can explore the selected dataset. Try to plot the map using some categorical attribute. Include a ToolTip."
   ]
  },
  {
   "cell_type": "markdown",
   "id": "bd441f54-11a1-43bc-a01b-9c5a926fdc28",
   "metadata": {},
   "source": [
    "**Task 4**: What is the Coordinate Reference System of the selected dataset?"
   ]
  },
  {
   "cell_type": "markdown",
   "id": "6252549f-1571-4182-be47-ff78da961361",
   "metadata": {},
   "source": [
    "**Task 5**: How many features does the selected dataset contain?"
   ]
  },
  {
   "cell_type": "markdown",
   "id": "bd11e4e5-ec41-4e1c-ae7d-bdd5f99c0d70",
   "metadata": {},
   "source": [
    "**Task 6**: Define a sub-setting criterion to create a new geopandas dataframe where you filter the\n",
    "selected dataset based on a categorical attribute/"
   ]
  },
  {
   "cell_type": "markdown",
   "id": "9997987a-6e65-4326-a91e-9546c0f9cb7c",
   "metadata": {},
   "source": [
    "**Task 7**: Define a sub-setting criterion to create a new geopandas dataframe where you filter the\n",
    "selected dataset based on a numerical attribute"
   ]
  },
  {
   "cell_type": "markdown",
   "id": "e8855365-2018-439c-a20f-4169ee626884",
   "metadata": {},
   "source": [
    "**Task 8**: Plot the new/filtered geopandas dataframe using one of the attributes to create a\n",
    "choropleth map."
   ]
  },
  {
   "cell_type": "markdown",
   "id": "0efa5170-cd8a-404e-9df1-4597ca37bd3e",
   "metadata": {},
   "source": [
    "## Python Rasterrio"
   ]
  },
  {
   "cell_type": "markdown",
   "id": "8eaee5d8-e676-45ce-ad14-0ccb8557509e",
   "metadata": {},
   "source": [
    "The dataset for this part of the assignment is elev.tif a 30 m spatial resolution digital elevation model (DEM) derived from the National Elevation Dataset (NED) in Canada with elevation in meters."
   ]
  },
  {
   "cell_type": "code",
   "execution_count": 351,
   "id": "ce2c482e-bc3e-4b4d-ab80-25676c9aaad6",
   "metadata": {},
   "outputs": [],
   "source": [
    "import rasterio as rio\n",
    "from rasterio import plot\n",
    "from matplotlib import pyplot"
   ]
  },
  {
   "cell_type": "markdown",
   "id": "052026a0-1dce-4d64-b905-d416e066ea9a",
   "metadata": {},
   "source": [
    "**Task 1**: Read the file as a rasterio dataset."
   ]
  },
  {
   "cell_type": "code",
   "execution_count": 337,
   "id": "bc546747-ab1d-453f-b626-d7e3b08f2cc3",
   "metadata": {},
   "outputs": [],
   "source": [
    "elev = rio.open('Assignment 2 data/elev.tif')"
   ]
  },
  {
   "cell_type": "markdown",
   "id": "4d6487fb-d961-4733-bf71-837727f52918",
   "metadata": {},
   "source": [
    "**Task 2**: What is the CRS of the dataset?"
   ]
  },
  {
   "cell_type": "code",
   "execution_count": 338,
   "id": "697a86d2-0fe9-4465-9da5-8211285f4c49",
   "metadata": {},
   "outputs": [
    {
     "name": "stdout",
     "output_type": "stream",
     "text": [
      "EPSG:32617\n"
     ]
    }
   ],
   "source": [
    "print(elev.crs)"
   ]
  },
  {
   "cell_type": "markdown",
   "id": "7e20237a-67d7-47f6-b233-8f6ea8496df0",
   "metadata": {},
   "source": [
    "**Task 3**: Describe the raster dataset regarding the raster extent (bounds), the reference system, and\n",
    "how many bands are in this dataset."
   ]
  },
  {
   "cell_type": "code",
   "execution_count": 349,
   "id": "35e94d3a-3226-4778-83ca-67c283885ec8",
   "metadata": {},
   "outputs": [
    {
     "name": "stdout",
     "output_type": "stream",
     "text": [
      "6303\n",
      "5897\n",
      "BoundingBox(left=479753.39945587853, bottom=4170823.2037591375, right=668843.3994558785, top=4347733.203759138)\n"
     ]
    },
    {
     "data": {
      "text/plain": [
       "(1, 5897, 6303)"
      ]
     },
     "execution_count": 349,
     "metadata": {},
     "output_type": "execute_result"
    }
   ],
   "source": [
    "print(elev.width)\n",
    "print(elev.height)\n",
    "print(elev.bounds)\n",
    "\n",
    "er = elev.read()\n",
    "er\n",
    "er.shape"
   ]
  },
  {
   "cell_type": "markdown",
   "id": "c0dfab9b-2f14-4292-a92f-e55b676a046d",
   "metadata": {},
   "source": [
    "**Task 4**: Create a plot/map of the raster dataset."
   ]
  },
  {
   "cell_type": "code",
   "execution_count": null,
   "id": "75ebbb11-77f4-498e-861a-0843326729d8",
   "metadata": {},
   "outputs": [],
   "source": [
    "#code here"
   ]
  },
  {
   "cell_type": "markdown",
   "id": "33e5ee7f-9234-455c-8ad0-f2eec7a5503d",
   "metadata": {},
   "source": [
    "**Task 5**: Create Histograms from the raster."
   ]
  },
  {
   "cell_type": "code",
   "execution_count": null,
   "id": "da245751-552a-4fd9-b317-18b905dcee48",
   "metadata": {},
   "outputs": [],
   "source": [
    "#code here"
   ]
  },
  {
   "cell_type": "markdown",
   "id": "c3f2c4c4-f3c8-4c12-b632-dedfb18eb8e0",
   "metadata": {},
   "source": [
    "## The End!"
   ]
  }
 ],
 "metadata": {
  "kernelspec": {
   "display_name": "Python 3 (ipykernel)",
   "language": "python",
   "name": "python3"
  },
  "language_info": {
   "codemirror_mode": {
    "name": "ipython",
    "version": 3
   },
   "file_extension": ".py",
   "mimetype": "text/x-python",
   "name": "python",
   "nbconvert_exporter": "python",
   "pygments_lexer": "ipython3",
   "version": "3.10.9"
  }
 },
 "nbformat": 4,
 "nbformat_minor": 5
}
