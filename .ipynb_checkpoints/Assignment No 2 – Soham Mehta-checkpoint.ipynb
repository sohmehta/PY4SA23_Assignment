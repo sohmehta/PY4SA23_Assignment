{
 "cells": [
  {
   "cell_type": "markdown",
   "id": "4032831c-8fa1-4c7d-afe4-d911a6214547",
   "metadata": {},
   "source": [
    "# Lab Assignment 2 – Soham Mehta"
   ]
  },
  {
   "cell_type": "markdown",
   "id": "81d8896b-2836-414f-bbc3-0267fae338d6",
   "metadata": {},
   "source": [
    "#### Your student code: 220038961\n",
    "#### Repository URL: https://github.com/sohmehta/PY4SA23_Assignment.git"
   ]
  },
  {
   "cell_type": "markdown",
   "id": "be17995e-79de-4575-955a-829836ed1561",
   "metadata": {},
   "source": [
    "## Python Basics"
   ]
  },
  {
   "cell_type": "markdown",
   "id": "9e739b8a-305d-4daf-ba59-8616a1593849",
   "metadata": {},
   "source": [
    "### Task 1"
   ]
  },
  {
   "cell_type": "markdown",
   "id": "49796565-6045-4eb8-b415-be1d8c004c94",
   "metadata": {},
   "source": [
    "Create an If...Else statement that will test whether a number is divisible by three. \"YOUR VALUE is divisible by 3\" should be printed if the value is divisible by three. \"YOUR VALUE is not divisible by three\" should be printed if it is not divisible by three. Test the statement on a numeric variable. Upper case text in the print statement should be replaced with the tested number."
   ]
  },
  {
   "cell_type": "code",
   "execution_count": 43,
   "id": "65985917-dc14-4d8e-b323-de9db423b28f",
   "metadata": {},
   "outputs": [
    {
     "name": "stdout",
     "output_type": "stream",
     "text": [
      "6 is divisible by 3.\n"
     ]
    }
   ],
   "source": [
    "x = 6 \n",
    "if x % 3 == 0:\n",
    "    print(str(x) + \" is divisible by 3.\")\n",
    "else:\n",
    "    print(str(x) + \" is not divisible by three.\") \n",
    "    "
   ]
  },
  {
   "cell_type": "markdown",
   "id": "58f74919-75d6-4535-a5a2-4d26e4ed7b5c",
   "metadata": {},
   "source": [
    "### Task 2"
   ]
  },
  {
   "cell_type": "markdown",
   "id": "c73b8945-e9c1-4318-aa61-8ee1a78e9dc4",
   "metadata": {},
   "source": [
    "Create an If...Else statement that will test whether a type of fruit, represented as a text string, is in a list of acceptable fruits (apple, orange, pear, kiwi, or strawberry). If the fruit is on the list, the following should be printed: \"YOUR FRUIT is acceptable.\" If not, then the following should be printed: \"YOUR FRUIT is not acceptable.\" Upper case text in the print statement should be replaced with the tested fruit."
   ]
  },
  {
   "cell_type": "code",
   "execution_count": 2,
   "id": "2c0021a7-5ace-4693-902b-af343efb2cbf",
   "metadata": {},
   "outputs": [
    {
     "name": "stdout",
     "output_type": "stream",
     "text": [
      "apple is acceptable.\n",
      "orange is not acceptable.\n",
      "pear is not acceptable.\n",
      "kiwi is not acceptable.\n",
      "strawberry is not acceptable.\n"
     ]
    }
   ],
   "source": [
    "fruits = [\"apple\", \"orange\", \"pear\", \"kiwi\", \"strawberry\"]\n",
    "for item in fruits:\n",
    "    if item == \"apple\":\n",
    "        print(str(item) + \" is acceptable.\")\n",
    "    else:\n",
    "        print(str(item) + \" is not acceptable.\")\n"
   ]
  },
  {
   "cell_type": "markdown",
   "id": "19ce255a-aa2e-4ec6-a2a4-ff521bb5fa1d",
   "metadata": {},
   "source": [
    "### Task 3"
   ]
  },
  {
   "cell_type": "markdown",
   "id": "3774820f-21cf-471e-8c65-9168fc7def8b",
   "metadata": {},
   "source": [
    "Create a function to calculate the distance between two coordinates using the haversine formula. Write the following formula where the input parameters are a pair of coordinates as two lists."
   ]
  },
  {
   "cell_type": "code",
   "execution_count": null,
   "id": "6924d464-64a2-4428-af10-211bbc1c6595",
   "metadata": {},
   "outputs": [],
   "source": [
    "#code here"
   ]
  },
  {
   "cell_type": "markdown",
   "id": "a7b1a2c7-0aa7-4938-862f-652186da2dad",
   "metadata": {},
   "source": [
    "## Pandas & NumPy"
   ]
  },
  {
   "cell_type": "markdown",
   "id": "03c8bdb9-7c52-41f8-9904-efc2b43942ee",
   "metadata": {},
   "source": [
    "This exercise focuses on the use of Pandas to query and summarise data. You will need to import the NumPy and Pandas libraries. Produce code to answer the questions below. Deliver your results in a Jupyter Notebook. Make sure all questions and answers are clearly labelled.\n",
    "\n",
    "The portland_park_trees.csv file contains information about individual trees in city parks in Portland, Oregon. These data were obtained from the City of Portland Office of Parks &Recreation (https://www.portlandoregon.gov/parks/article/433143)."
   ]
  },
  {
   "cell_type": "code",
   "execution_count": 15,
   "id": "0aef80cc-6d19-4209-a30c-0fbc6192d521",
   "metadata": {},
   "outputs": [],
   "source": [
    "import pandas as pd\n",
    "import numpy as np"
   ]
  },
  {
   "cell_type": "code",
   "execution_count": 23,
   "id": "89c0a24f-8f50-49ee-bbfc-f4b00fe843fc",
   "metadata": {},
   "outputs": [
    {
     "data": {
      "text/html": [
       "<div>\n",
       "<style scoped>\n",
       "    .dataframe tbody tr th:only-of-type {\n",
       "        vertical-align: middle;\n",
       "    }\n",
       "\n",
       "    .dataframe tbody tr th {\n",
       "        vertical-align: top;\n",
       "    }\n",
       "\n",
       "    .dataframe thead th {\n",
       "        text-align: right;\n",
       "    }\n",
       "</style>\n",
       "<table border=\"1\" class=\"dataframe\">\n",
       "  <thead>\n",
       "    <tr style=\"text-align: right;\">\n",
       "      <th></th>\n",
       "      <th>fid</th>\n",
       "      <th>OBJECTID</th>\n",
       "      <th>Inventory_</th>\n",
       "      <th>Species</th>\n",
       "      <th>DBH</th>\n",
       "      <th>Condition</th>\n",
       "      <th>TreeHeight</th>\n",
       "      <th>CrownWidth</th>\n",
       "      <th>CrownWid_1</th>\n",
       "      <th>CollectedB</th>\n",
       "      <th>...</th>\n",
       "      <th>Genus</th>\n",
       "      <th>Common_nam</th>\n",
       "      <th>Genus_spec</th>\n",
       "      <th>Functional</th>\n",
       "      <th>Size</th>\n",
       "      <th>Native</th>\n",
       "      <th>Edible</th>\n",
       "      <th>Nuisance</th>\n",
       "      <th>Origin</th>\n",
       "      <th>Species_fa</th>\n",
       "    </tr>\n",
       "  </thead>\n",
       "  <tbody>\n",
       "    <tr>\n",
       "      <th>0</th>\n",
       "      <td>1</td>\n",
       "      <td>426</td>\n",
       "      <td>2017/05/09</td>\n",
       "      <td>PSME</td>\n",
       "      <td>37.4</td>\n",
       "      <td>Fair</td>\n",
       "      <td>105.0</td>\n",
       "      <td>44.0</td>\n",
       "      <td>57.0</td>\n",
       "      <td>staff</td>\n",
       "      <td>...</td>\n",
       "      <td>Pseudotsuga</td>\n",
       "      <td>Douglas-fir</td>\n",
       "      <td>Pseudotsuga menziesii</td>\n",
       "      <td>CE</td>\n",
       "      <td>L</td>\n",
       "      <td>Yes</td>\n",
       "      <td>NaN</td>\n",
       "      <td>NaN</td>\n",
       "      <td>North America - from British Columbia south to...</td>\n",
       "      <td>Bracts on cones look like a mouse's feet and t...</td>\n",
       "    </tr>\n",
       "    <tr>\n",
       "      <th>1</th>\n",
       "      <td>2</td>\n",
       "      <td>427</td>\n",
       "      <td>2017/05/09</td>\n",
       "      <td>PSME</td>\n",
       "      <td>32.5</td>\n",
       "      <td>Fair</td>\n",
       "      <td>94.0</td>\n",
       "      <td>49.0</td>\n",
       "      <td>45.0</td>\n",
       "      <td>staff</td>\n",
       "      <td>...</td>\n",
       "      <td>Pseudotsuga</td>\n",
       "      <td>Douglas-fir</td>\n",
       "      <td>Pseudotsuga menziesii</td>\n",
       "      <td>CE</td>\n",
       "      <td>L</td>\n",
       "      <td>Yes</td>\n",
       "      <td>NaN</td>\n",
       "      <td>NaN</td>\n",
       "      <td>North America - from British Columbia south to...</td>\n",
       "      <td>Bracts on cones look like a mouse's feet and t...</td>\n",
       "    </tr>\n",
       "    <tr>\n",
       "      <th>2</th>\n",
       "      <td>3</td>\n",
       "      <td>428</td>\n",
       "      <td>2017/05/09</td>\n",
       "      <td>CRLA</td>\n",
       "      <td>9.7</td>\n",
       "      <td>Fair</td>\n",
       "      <td>23.0</td>\n",
       "      <td>28.0</td>\n",
       "      <td>27.0</td>\n",
       "      <td>staff</td>\n",
       "      <td>...</td>\n",
       "      <td>Crataegus</td>\n",
       "      <td>Lavalle hawthorn</td>\n",
       "      <td>Crataegus x lavalleei</td>\n",
       "      <td>BD</td>\n",
       "      <td>S</td>\n",
       "      <td>No</td>\n",
       "      <td>NaN</td>\n",
       "      <td>NaN</td>\n",
       "      <td>North America - a hybrid between a Mexican and...</td>\n",
       "      <td>Like most hawthorns, the tree has stout thorns...</td>\n",
       "    </tr>\n",
       "    <tr>\n",
       "      <th>3</th>\n",
       "      <td>4</td>\n",
       "      <td>429</td>\n",
       "      <td>2017/05/09</td>\n",
       "      <td>QURU</td>\n",
       "      <td>10.3</td>\n",
       "      <td>Poor</td>\n",
       "      <td>28.0</td>\n",
       "      <td>38.0</td>\n",
       "      <td>31.0</td>\n",
       "      <td>staff</td>\n",
       "      <td>...</td>\n",
       "      <td>Quercus</td>\n",
       "      <td>northern red oak</td>\n",
       "      <td>Quercus rubra</td>\n",
       "      <td>BD</td>\n",
       "      <td>L</td>\n",
       "      <td>No</td>\n",
       "      <td>NaN</td>\n",
       "      <td>NaN</td>\n",
       "      <td>North America - eastern Canada and eastern USA...</td>\n",
       "      <td>Acorns take two years to mature and are an imp...</td>\n",
       "    </tr>\n",
       "    <tr>\n",
       "      <th>4</th>\n",
       "      <td>5</td>\n",
       "      <td>430</td>\n",
       "      <td>2017/05/09</td>\n",
       "      <td>PSME</td>\n",
       "      <td>33.2</td>\n",
       "      <td>Fair</td>\n",
       "      <td>102.0</td>\n",
       "      <td>43.0</td>\n",
       "      <td>44.0</td>\n",
       "      <td>staff</td>\n",
       "      <td>...</td>\n",
       "      <td>Pseudotsuga</td>\n",
       "      <td>Douglas-fir</td>\n",
       "      <td>Pseudotsuga menziesii</td>\n",
       "      <td>CE</td>\n",
       "      <td>L</td>\n",
       "      <td>Yes</td>\n",
       "      <td>NaN</td>\n",
       "      <td>NaN</td>\n",
       "      <td>North America - from British Columbia south to...</td>\n",
       "      <td>Bracts on cones look like a mouse's feet and t...</td>\n",
       "    </tr>\n",
       "  </tbody>\n",
       "</table>\n",
       "<p>5 rows × 40 columns</p>\n",
       "</div>"
      ],
      "text/plain": [
       "   fid  OBJECTID  Inventory_ Species   DBH Condition  TreeHeight  CrownWidth  \\\n",
       "0    1       426  2017/05/09    PSME  37.4      Fair       105.0        44.0   \n",
       "1    2       427  2017/05/09    PSME  32.5      Fair        94.0        49.0   \n",
       "2    3       428  2017/05/09    CRLA   9.7      Fair        23.0        28.0   \n",
       "3    4       429  2017/05/09    QURU  10.3      Poor        28.0        38.0   \n",
       "4    5       430  2017/05/09    PSME  33.2      Fair       102.0        43.0   \n",
       "\n",
       "   CrownWid_1 CollectedB  ...        Genus        Common_nam  \\\n",
       "0        57.0      staff  ...  Pseudotsuga       Douglas-fir   \n",
       "1        45.0      staff  ...  Pseudotsuga       Douglas-fir   \n",
       "2        27.0      staff  ...    Crataegus  Lavalle hawthorn   \n",
       "3        31.0      staff  ...      Quercus  northern red oak   \n",
       "4        44.0      staff  ...  Pseudotsuga       Douglas-fir   \n",
       "\n",
       "              Genus_spec Functional Size Native Edible Nuisance  \\\n",
       "0  Pseudotsuga menziesii         CE    L    Yes    NaN      NaN   \n",
       "1  Pseudotsuga menziesii         CE    L    Yes    NaN      NaN   \n",
       "2  Crataegus x lavalleei         BD    S     No    NaN      NaN   \n",
       "3          Quercus rubra         BD    L     No    NaN      NaN   \n",
       "4  Pseudotsuga menziesii         CE    L    Yes    NaN      NaN   \n",
       "\n",
       "                                              Origin  \\\n",
       "0  North America - from British Columbia south to...   \n",
       "1  North America - from British Columbia south to...   \n",
       "2  North America - a hybrid between a Mexican and...   \n",
       "3  North America - eastern Canada and eastern USA...   \n",
       "4  North America - from British Columbia south to...   \n",
       "\n",
       "                                          Species_fa  \n",
       "0  Bracts on cones look like a mouse's feet and t...  \n",
       "1  Bracts on cones look like a mouse's feet and t...  \n",
       "2  Like most hawthorns, the tree has stout thorns...  \n",
       "3  Acorns take two years to mature and are an imp...  \n",
       "4  Bracts on cones look like a mouse's feet and t...  \n",
       "\n",
       "[5 rows x 40 columns]"
      ]
     },
     "execution_count": 23,
     "metadata": {},
     "output_type": "execute_result"
    }
   ],
   "source": [
    "trees_df = pd.read_csv(\"Assignment 2 data/portland_park_trees.csv\")\n",
    "trees_df.head(5)"
   ]
  },
  {
   "cell_type": "code",
   "execution_count": 24,
   "id": "dba7247e-7c01-4b29-8cd6-d146dd6aa0af",
   "metadata": {},
   "outputs": [
    {
     "data": {
      "text/plain": [
       "(25534, 40)"
      ]
     },
     "execution_count": 24,
     "metadata": {},
     "output_type": "execute_result"
    }
   ],
   "source": [
    "trees_df.shape"
   ]
  },
  {
   "cell_type": "markdown",
   "id": "6f8c8474-df46-439c-877a-24f777d3d6dd",
   "metadata": {},
   "source": [
    "**Question 1**: How many trees are of the Quercus or Acer genus? "
   ]
  },
  {
   "cell_type": "code",
   "execution_count": 49,
   "id": "4ab6a5b8-0399-4601-a08a-2d301a054932",
   "metadata": {},
   "outputs": [
    {
     "name": "stdout",
     "output_type": "stream",
     "text": [
      "5675\n"
     ]
    }
   ],
   "source": [
    "sample1 = trees_df.query('Genus== \"Acer\" or Genus ==\"Quercus\"')\n",
    "print (len(sample1))"
   ]
  },
  {
   "cell_type": "markdown",
   "id": "2af235e1-85b1-4c94-ab39-3f37f68b596c",
   "metadata": {},
   "source": [
    "**Question 2**: How many trees are of the Quercus or Acer genus and have a DBH larger than 50 inches?"
   ]
  },
  {
   "cell_type": "code",
   "execution_count": 52,
   "id": "e872d625-4240-462a-92f5-bf24725c87f2",
   "metadata": {},
   "outputs": [
    {
     "name": "stdout",
     "output_type": "stream",
     "text": [
      "3666\n",
      "\n"
     ]
    }
   ],
   "source": [
    "sample2 = trees_df.query('Genus==\"Acer\" or Genus == \"Quercus\" and DBH > 50')\n",
    "print(len(sample2))\n",
    "print('')"
   ]
  },
  {
   "cell_type": "markdown",
   "id": "b62806ae-cb79-40be-b57d-fc2c37441c95",
   "metadata": {},
   "source": [
    "**Question 3**: Which genus has the highest mean DBH of the following genera: Quercus, Acer, or Fraxinus?"
   ]
  },
  {
   "cell_type": "code",
   "execution_count": null,
   "id": "9226d50e-5270-4160-b494-18727f439e40",
   "metadata": {},
   "outputs": [],
   "source": []
  },
  {
   "cell_type": "markdown",
   "id": "6e5c0ba1-e4c6-4dc9-87f9-aaf07bfd263d",
   "metadata": {},
   "source": [
    "**Question 4**: How many different species of trees are recorded in the Acer genus?"
   ]
  },
  {
   "cell_type": "markdown",
   "id": "1bfd2082-9495-47e7-8b3e-caf1657bd167",
   "metadata": {},
   "source": [
    "The world_cities.csv is a file that contains cities, countries, population, coordinates (geographic) and a Boolean attribute that defines if the city is the capital city or not. Read this file as a Pandas dataframe and create the required scripts to:"
   ]
  },
  {
   "cell_type": "markdown",
   "id": "1c359185-4b9a-4000-9981-d2fc873c309d",
   "metadata": {},
   "source": [
    "**Question 5**: \n",
    "- Calculate a new column named \"pop_M\" (population in millions), by transforming the \"pop\" (population) column.\n",
    "- Remove the original \"pop\" column.\n",
    "- Choose/subset a city that starts with the same letter as your first name (for example, \"Mexico City\" if your first name is Michael).\n",
    "- Subset the five biggest (i.e., largest population sizes) cities from the country where your selected city is.\n",
    "- Print the result.\n",
    "- Make sure you write the scripts in different code cells where you describe the process."
   ]
  },
  {
   "cell_type": "markdown",
   "id": "6b545975-de13-4b6c-86ed-89eb737182aa",
   "metadata": {},
   "source": [
    "## Python Data Visualization"
   ]
  },
  {
   "cell_type": "markdown",
   "id": "ac12f161-ac2a-499e-ac08-1b3ed8150b1f",
   "metadata": {},
   "source": [
    "Using the same dataset portland_park_trees.csv, create using seaborn, pandas or matplotlib libraries the following charts:"
   ]
  },
  {
   "cell_type": "markdown",
   "id": "65a65417-ba39-4242-ad64-895641784185",
   "metadata": {},
   "source": [
    "**Graph 1**: Create a scatterplot for just trees in the Ulmus genus with DBH mapped to the x-axis and tree height mapped to the y-axis (Hint: You will need to use the “Genus”, “DBH”, and “TreeHeight” attributes.)."
   ]
  },
  {
   "cell_type": "markdown",
   "id": "41e3b056-e077-4fcd-9865-31f86141573b",
   "metadata": {},
   "source": [
    "**Graph 2**: Create a scatterplot for just trees in the Ulmus genus with DBH mapped to the x-axis, tree height mapped to the y-axis, and tree species mapped to hue (Hint: You will need to use the “Genus”, “Genus_spec”, “DBH”, and “TreeHeight” attributes.)"
   ]
  },
  {
   "cell_type": "markdown",
   "id": "fef6d78f-5824-4fa4-b4f2-f61b4c5ec9b3",
   "metadata": {},
   "source": [
    "**Graph 3**: Create a boxplot of DBH for just the Ulmus genus differentiated by species (or, each species should have its own boxplot)."
   ]
  },
  {
   "cell_type": "markdown",
   "id": "76758119-bab5-4693-8da5-953079562abe",
   "metadata": {},
   "source": [
    "**Graph 4**: Combine Graphs 1 and 3 into a single figure. Do not plot a legend for any of the graphs"
   ]
  },
  {
   "cell_type": "markdown",
   "id": "f050595f-f520-48ac-b083-1d9f2577a079",
   "metadata": {},
   "source": [
    "## Python GeoPandas"
   ]
  },
  {
   "cell_type": "markdown",
   "id": "07ca6269-df1c-4901-81ec-9bde5ffacffa",
   "metadata": {},
   "source": [
    "Go to the Spatial Data Portal of Scotland and find any spatial data that you find interesting in a shapefile format. Download this data and Produce code to complete the requested tasks."
   ]
  },
  {
   "cell_type": "markdown",
   "id": "09f4e26b-79ee-4a8e-89a4-1a4e52ee477c",
   "metadata": {},
   "source": [
    "**Task 1**: Read the selected dataset as GeoPandas DataFrame"
   ]
  },
  {
   "cell_type": "markdown",
   "id": "a43e3aad-3a95-4db8-8579-f620755be6e1",
   "metadata": {},
   "source": [
    "**Task 2**: Use the correct code to plot the first 5 and the last 5 sets of records in your selected dataset."
   ]
  },
  {
   "cell_type": "markdown",
   "id": "07dce84f-e2c6-417d-9874-c6692d12e0e6",
   "metadata": {},
   "source": [
    "**Task 3**: Create a map where you can explore the selected dataset. Try to plot the map using some categorical attribute. Include a ToolTip."
   ]
  },
  {
   "cell_type": "markdown",
   "id": "bd441f54-11a1-43bc-a01b-9c5a926fdc28",
   "metadata": {},
   "source": [
    "**Task 4**: What is the Coordinate Reference System of the selected dataset?"
   ]
  },
  {
   "cell_type": "markdown",
   "id": "6252549f-1571-4182-be47-ff78da961361",
   "metadata": {},
   "source": [
    "**Task 5**: How many features does the selected dataset contain?"
   ]
  },
  {
   "cell_type": "markdown",
   "id": "bd11e4e5-ec41-4e1c-ae7d-bdd5f99c0d70",
   "metadata": {},
   "source": [
    "**Task 6**: Define a sub-setting criterion to create a new geopandas dataframe where you filter the\n",
    "selected dataset based on a categorical attribute/"
   ]
  },
  {
   "cell_type": "markdown",
   "id": "9997987a-6e65-4326-a91e-9546c0f9cb7c",
   "metadata": {},
   "source": [
    "**Task 7**: Define a sub-setting criterion to create a new geopandas dataframe where you filter the\n",
    "selected dataset based on a numerical attribute"
   ]
  },
  {
   "cell_type": "markdown",
   "id": "e8855365-2018-439c-a20f-4169ee626884",
   "metadata": {},
   "source": [
    "**Task 8**: Plot the new/filtered geopandas dataframe using one of the attributes to create a\n",
    "choropleth map."
   ]
  },
  {
   "cell_type": "markdown",
   "id": "0efa5170-cd8a-404e-9df1-4597ca37bd3e",
   "metadata": {},
   "source": [
    "## Python Rasterrio"
   ]
  },
  {
   "cell_type": "markdown",
   "id": "8eaee5d8-e676-45ce-ad14-0ccb8557509e",
   "metadata": {},
   "source": [
    "The dataset for this part of the assignment is elev.tif a 30 m spatial resolution digital elevation model (DEM) derived from the National Elevation Dataset (NED) in Canada with elevation in meters."
   ]
  },
  {
   "cell_type": "markdown",
   "id": "052026a0-1dce-4d64-b905-d416e066ea9a",
   "metadata": {},
   "source": [
    "**Task 1**: Read the file as a rasterio dataset."
   ]
  },
  {
   "cell_type": "markdown",
   "id": "4d6487fb-d961-4733-bf71-837727f52918",
   "metadata": {},
   "source": [
    "**Task 2**: What is the CRS of the dataset?"
   ]
  },
  {
   "cell_type": "markdown",
   "id": "7e20237a-67d7-47f6-b233-8f6ea8496df0",
   "metadata": {},
   "source": [
    "**Task 3**: Describe the raster dataset regarding the raster extent (bounds), the reference system, and\n",
    "how many bands are in this dataset."
   ]
  },
  {
   "cell_type": "markdown",
   "id": "c0dfab9b-2f14-4292-a92f-e55b676a046d",
   "metadata": {},
   "source": [
    "**Task 4**: Create a plot/map of the raster dataset."
   ]
  },
  {
   "cell_type": "markdown",
   "id": "33e5ee7f-9234-455c-8ad0-f2eec7a5503d",
   "metadata": {},
   "source": [
    "**Task 5**: Create Histograms from the raster."
   ]
  },
  {
   "cell_type": "markdown",
   "id": "c3f2c4c4-f3c8-4c12-b632-dedfb18eb8e0",
   "metadata": {},
   "source": [
    "## The End!"
   ]
  }
 ],
 "metadata": {
  "kernelspec": {
   "display_name": "Python 3 (ipykernel)",
   "language": "python",
   "name": "python3"
  },
  "language_info": {
   "codemirror_mode": {
    "name": "ipython",
    "version": 3
   },
   "file_extension": ".py",
   "mimetype": "text/x-python",
   "name": "python",
   "nbconvert_exporter": "python",
   "pygments_lexer": "ipython3",
   "version": "3.10.9"
  }
 },
 "nbformat": 4,
 "nbformat_minor": 5
}
