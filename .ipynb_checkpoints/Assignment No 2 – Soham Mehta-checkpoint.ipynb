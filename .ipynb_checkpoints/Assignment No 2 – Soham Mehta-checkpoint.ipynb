{
 "cells": [
  {
   "cell_type": "markdown",
   "id": "4032831c-8fa1-4c7d-afe4-d911a6214547",
   "metadata": {},
   "source": [
    "# Lab Assignment 2 – Soham Mehta"
   ]
  },
  {
   "cell_type": "markdown",
   "id": "81d8896b-2836-414f-bbc3-0267fae338d6",
   "metadata": {},
   "source": [
    "#### Your student code: 220038961\n",
    "#### Repository URL: https://github.com/sohmehta/PY4SA23_Assignment.git"
   ]
  },
  {
   "cell_type": "markdown",
   "id": "be17995e-79de-4575-955a-829836ed1561",
   "metadata": {},
   "source": [
    "## Python Basics"
   ]
  },
  {
   "cell_type": "markdown",
   "id": "9e739b8a-305d-4daf-ba59-8616a1593849",
   "metadata": {},
   "source": [
    "### Task 1"
   ]
  },
  {
   "cell_type": "markdown",
   "id": "49796565-6045-4eb8-b415-be1d8c004c94",
   "metadata": {},
   "source": [
    "Create an If...Else statement that will test whether a number is divisible by three. \"YOUR VALUE is divisible by 3\" should be printed if the value is divisible by three. \"YOUR VALUE is not divisible by three\" should be printed if it is not divisible by three. Test the statement on a numeric variable. Upper case text in the print statement should be replaced with the tested number."
   ]
  },
  {
   "cell_type": "code",
   "execution_count": 2,
   "id": "65985917-dc14-4d8e-b323-de9db423b28f",
   "metadata": {},
   "outputs": [],
   "source": [
    "#code here"
   ]
  },
  {
   "cell_type": "markdown",
   "id": "58f74919-75d6-4535-a5a2-4d26e4ed7b5c",
   "metadata": {},
   "source": [
    "### Task 2"
   ]
  },
  {
   "cell_type": "markdown",
   "id": "c73b8945-e9c1-4318-aa61-8ee1a78e9dc4",
   "metadata": {},
   "source": [
    "Create an If...Else statement that will test whether a type of fruit, represented as a text string, is in a list of acceptable fruits (apple, orange, pear, kiwi, or strawberry). If the fruit is on the list, the following should be printed: \"YOUR FRUIT is acceptable.\" If not, then the following should be printed: \"YOUR FRUIT is not acceptable.\" Upper case text in the print statement should be replaced with the tested fruit."
   ]
  },
  {
   "cell_type": "code",
   "execution_count": 3,
   "id": "332a780e-c157-4095-b07c-218d7388818a",
   "metadata": {},
   "outputs": [],
   "source": [
    "#code here"
   ]
  },
  {
   "cell_type": "markdown",
   "id": "19ce255a-aa2e-4ec6-a2a4-ff521bb5fa1d",
   "metadata": {},
   "source": [
    "### Task 3"
   ]
  },
  {
   "cell_type": "markdown",
   "id": "3774820f-21cf-471e-8c65-9168fc7def8b",
   "metadata": {},
   "source": [
    "Create a function to calculate the distance between two coordinates using the haversine formula. Write the following formula where the input parameters are a pair of coordinates as two lists."
   ]
  },
  {
   "cell_type": "code",
   "execution_count": 4,
   "id": "6924d464-64a2-4428-af10-211bbc1c6595",
   "metadata": {},
   "outputs": [],
   "source": [
    "#code here"
   ]
  },
  {
   "cell_type": "markdown",
   "id": "a7b1a2c7-0aa7-4938-862f-652186da2dad",
   "metadata": {},
   "source": [
    "## Pandas & NumPy"
   ]
  },
  {
   "cell_type": "markdown",
   "id": "6b545975-de13-4b6c-86ed-89eb737182aa",
   "metadata": {},
   "source": [
    "## Python Data Visualization"
   ]
  },
  {
   "cell_type": "markdown",
   "id": "f050595f-f520-48ac-b083-1d9f2577a079",
   "metadata": {},
   "source": [
    "## Python GeoPandas"
   ]
  },
  {
   "cell_type": "markdown",
   "id": "0efa5170-cd8a-404e-9df1-4597ca37bd3e",
   "metadata": {},
   "source": [
    "## Python Rasterrio"
   ]
  },
  {
   "cell_type": "markdown",
   "id": "c3f2c4c4-f3c8-4c12-b632-dedfb18eb8e0",
   "metadata": {},
   "source": [
    "## The End!"
   ]
  },
  {
   "cell_type": "code",
   "execution_count": null,
   "id": "9acbcdc0-df15-4c16-8816-3d3c2996afd8",
   "metadata": {},
   "outputs": [],
   "source": []
  }
 ],
 "metadata": {
  "kernelspec": {
   "display_name": "Python 3 (ipykernel)",
   "language": "python",
   "name": "python3"
  },
  "language_info": {
   "codemirror_mode": {
    "name": "ipython",
    "version": 3
   },
   "file_extension": ".py",
   "mimetype": "text/x-python",
   "name": "python",
   "nbconvert_exporter": "python",
   "pygments_lexer": "ipython3",
   "version": "3.10.9"
  }
 },
 "nbformat": 4,
 "nbformat_minor": 5
}
